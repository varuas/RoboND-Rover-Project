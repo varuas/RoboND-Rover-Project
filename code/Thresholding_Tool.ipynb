{
 "cells": [
  {
   "cell_type": "markdown",
   "metadata": {},
   "source": [
    "## Rover Vision Thresholding Tool\n",
    "This notebook was written to make it easy to do thresholding using GUI sliders for the different color channels."
   ]
  },
  {
   "cell_type": "code",
   "execution_count": 64,
   "metadata": {
    "outputExpanded": false
   },
   "outputs": [],
   "source": [
    "%matplotlib qt\n",
    "#%matplotlib qt # Choose %matplotlib qt to plot to an interactive window (note it may show up behind your browser)\n",
    "# Make some of the relevant imports\n",
    "import cv2 # OpenCV for perspective transform\n",
    "import numpy as np\n",
    "import matplotlib.image as mpimg\n",
    "import matplotlib.pyplot as plt\n",
    "import scipy.misc # For saving images as needed\n",
    "import glob  # For reading in a list of images from a folder\n",
    "from matplotlib.widgets import Slider, Button\n",
    "import perception"
   ]
  },
  {
   "cell_type": "markdown",
   "metadata": {},
   "source": [
    "## Pre-requisite functions"
   ]
  },
  {
   "cell_type": "code",
   "execution_count": 65,
   "metadata": {
    "outputExpanded": false,
    "scrolled": true
   },
   "outputs": [],
   "source": [
    "def get_random_img():\n",
    "    path = '../test_dataset/IMG/*'\n",
    "    img_list = glob.glob(path)\n",
    "    idx = np.random.randint(0, len(img_list)-1)\n",
    "    print('Fetching random image : ', img_list[idx])\n",
    "    return mpimg.imread(img_list[idx])"
   ]
  },
  {
   "cell_type": "markdown",
   "metadata": {},
   "source": [
    "# Thresholding Tool"
   ]
  },
  {
   "cell_type": "code",
   "execution_count": 66,
   "metadata": {},
   "outputs": [],
   "source": [
    "#test_image = get_random_img()\n",
    "test_image = mpimg.imread(\"../new_calib/calib9.jpg\")\n",
    "\n",
    "# define constants\n",
    "dst_size = 5 \n",
    "bottom_offset = 6\n",
    "source = np.float32([[14, 140], [301 ,140],[200, 96], [118, 96]])\n",
    "destination = np.float32([[test_image.shape[1]/2 - dst_size, test_image.shape[0] - bottom_offset],\n",
    "              [test_image.shape[1]/2 + dst_size, test_image.shape[0] - bottom_offset],\n",
    "              [test_image.shape[1]/2 + dst_size, test_image.shape[0] - 2*dst_size - bottom_offset], \n",
    "              [test_image.shape[1]/2 - dst_size, test_image.shape[0] - 2*dst_size - bottom_offset],\n",
    "              ])\n",
    "world_map_size = 200\n",
    "map_scale = 10\n",
    "\n",
    "# Function to use for the slider\n",
    "slider_function = perception.rock_thresh\n",
    "# replace these valuels according to the subsequent cell based on the slider function chosen\n",
    "r_max = 204\n",
    "r_min = 125\n",
    "g_max = 185\n",
    "g_min = 102\n",
    "b_max = 78\n",
    "b_min = 0\n",
    "\n",
    "nav_threshed = perception.navigable_thresh(test_image)\n",
    "rock_threshed = perception.rock_thresh(test_image)\n",
    "obstacle_threshed = perception.obstacle_thresh(test_image)\n",
    "warped_nav = perception.perspect_transform(test_image, source, destination)\n",
    "warped_nav_threshed = perception.perspect_transform(nav_threshed, source, destination)\n",
    "warped_obs = perception.perspect_transform(warped_nav_threshed, source, destination)\n",
    "\n",
    "#Show images\n",
    "plt.subplot(321)\n",
    "plt.imshow(test_image)\n",
    "plt.subplot(323)\n",
    "plt.imshow(nav_threshed, cmap='gray')\n",
    "plt.subplot(324)\n",
    "plt.imshow(obstacle_threshed, cmap='gray')\n",
    "plt.subplot(325)\n",
    "plt.imshow(warped_nav, cmap='gray')\n",
    "plt.subplot(326)\n",
    "plt.imshow(warped_nav_threshed, cmap='gray')\n",
    "\n",
    "plt.subplot(322)\n",
    "plt.subplots_adjust(left=0.25, bottom=0.2)\n",
    "\n",
    "v_space = 0.025\n",
    "ax_rmin = plt.axes([0.25, v_space*5, 0.65, 0.02])\n",
    "ax_rmax  = plt.axes([0.25, v_space*6, 0.65, 0.02])\n",
    "ax_gmin = plt.axes([0.25, v_space*3, 0.65, 0.02])\n",
    "ax_gmax  = plt.axes([0.25, v_space*4, 0.65, 0.02])\n",
    "ax_bmin = plt.axes([0.25, v_space*1, 0.65, 0.02])\n",
    "ax_bmax  = plt.axes([0.25, v_space*2, 0.65, 0.02])\n",
    "\n",
    "s_rmin = Slider(ax_rmin, 'R min', 0, 255, valinit=r_min)\n",
    "s_rmax = Slider(ax_rmax, 'R max', 0, 255, valinit=r_max)\n",
    "s_gmin = Slider(ax_gmin, 'G min', 0, 255, valinit=g_min)\n",
    "s_gmax = Slider(ax_gmax, 'G max', 0, 255, valinit=g_max)\n",
    "s_bmin = Slider(ax_bmin, 'B min', 0, 255, valinit=b_min)\n",
    "s_bmax = Slider(ax_bmax, 'B max', 0, 255, valinit=b_max)\n",
    "\n",
    "def update(val, s=None):\n",
    "    r_min = int(s_rmin.val)\n",
    "    r_max = int(s_rmax.val)\n",
    "    g_min = int(s_gmin.val)\n",
    "    g_max = int(s_gmax.val)\n",
    "    b_min = int(s_bmin.val)\n",
    "    b_max = int(s_bmax.val)\n",
    "    variable_image = slider_function(test_image, rgb_thresh_min=(r_min, g_min, b_min), rgb_thresh_max=(r_max,g_max,b_max))\n",
    "    plt.subplot(322)\n",
    "    plt.imshow(variable_image, cmap='gray')\n",
    "    plt.draw()\n",
    "\n",
    "s_rmin.on_changed(update)\n",
    "s_rmax.on_changed(update)\n",
    "s_gmin.on_changed(update)\n",
    "s_gmax.on_changed(update)\n",
    "s_bmin.on_changed(update)\n",
    "s_bmax.on_changed(update)\n",
    "\n",
    "update(val = None)"
   ]
  },
  {
   "cell_type": "markdown",
   "metadata": {},
   "source": [
    "## Common Parameters \n",
    "\n",
    "### obstacle : \n",
    "```\n",
    "r_max = 118\n",
    "r_min = 0\n",
    "g_max = 103\n",
    "g_min = 0\n",
    "b_max = 120\n",
    "b_min = 0\n",
    "```\n",
    "\n",
    "### navigable\n",
    "```\n",
    "r_max = 255\n",
    "r_min = 118\n",
    "g_max = 255\n",
    "g_min = 93\n",
    "b_max = 255\n",
    "b_min = 89\n",
    "```\n",
    "\n",
    "### rock\n",
    "```\n",
    "r_max = 204\n",
    "r_min = 125\n",
    "g_max = 185\n",
    "g_min = 102\n",
    "b_max = 78\n",
    "b_min = 0\n",
    "```\n",
    "\n",
    "### Tyre marks\n",
    "```\n",
    "r_max = 207\n",
    "r_min = 130\n",
    "g_max = 182\n",
    "g_min = 107\n",
    "b_max = 159\n",
    "b_min = 83\n",
    "```"
   ]
  },
  {
   "cell_type": "code",
   "execution_count": null,
   "metadata": {
    "collapsed": true
   },
   "outputs": [],
   "source": []
  }
 ],
 "metadata": {
  "anaconda-cloud": {},
  "kernel_info": {
   "name": "python3"
  },
  "kernelspec": {
   "display_name": "Python 3",
   "language": "python",
   "name": "python3"
  },
  "widgets": {
   "state": {},
   "version": "1.1.2"
  }
 },
 "nbformat": 4,
 "nbformat_minor": 1
}
